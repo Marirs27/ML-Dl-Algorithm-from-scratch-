{
  "nbformat": 4,
  "nbformat_minor": 0,
  "metadata": {
    "colab": {
      "name": "K-means Python.ipynb",
      "provenance": []
    },
    "kernelspec": {
      "name": "python3",
      "display_name": "Python 3"
    },
    "language_info": {
      "name": "python"
    }
  },
  "cells": [
    {
      "cell_type": "code",
      "metadata": {
        "id": "AcZPJlpe2iyl"
      },
      "source": [
        "import numpy as np\n",
        "import matplotlib.pyplot as plt"
      ],
      "execution_count": 10,
      "outputs": []
    },
    {
      "cell_type": "code",
      "metadata": {
        "id": "DirjxLQn3o-e"
      },
      "source": [
        "np.random.seed(42)"
      ],
      "execution_count": 11,
      "outputs": []
    },
    {
      "cell_type": "code",
      "metadata": {
        "id": "GKGOgeal3tpW"
      },
      "source": [
        "def euclidean_distance(x1, x2):\n",
        "  return np.sqrt(np.sum((x1-x2)**2))"
      ],
      "execution_count": 12,
      "outputs": []
    },
    {
      "cell_type": "code",
      "metadata": {
        "id": "0ASMINew5CJU"
      },
      "source": [
        "class KMeans():\n",
        "\n",
        "  def __init__(self,K=5,max_iters=100,plot_steps=False):\n",
        "    self.K = K\n",
        "    self.max_iters = max_iters\n",
        "    self.plot_steps = plot_steps\n",
        "\n",
        "    # list of sample indices for each cluster\n",
        "    self.clusters = [[] for _ in range(self.K)]\n",
        "    # centroid points (in form of coordinates)\n",
        "    self.centroids=[]\n",
        "\n",
        "  def predict(self,X) :\n",
        "    self.X=X\n",
        "    self.n_samples,self.n_features = X.shape\n",
        "\n",
        "    #initialize..\n",
        "    random_sample_ind = np.random.choice(self.n_samples,self.K,replace=False)\n",
        "    self.centroids = [self.X[ind] for ind in random_sample_ind ]\n",
        "\n",
        "    #Optimizing the centroids ..\n",
        "    for iter in range (self.max_iters) :\n",
        "      self.clusters = self.create_clusters(self.centroids)\n",
        "\n",
        "      if self.plot_steps :\n",
        "        self.plot()\n",
        "      \n",
        "      #Calculating new Centroids from clusters ..\n",
        "      centroids_old = self.centroids\n",
        "      self.centroids = self.calculate_centroids(self.clusters)\n",
        "\n",
        "      #Check for convergence of centroids ..\n",
        "      if (self.is_converged(centroids_old,self.centroids)) :\n",
        "        break\n",
        "      \n",
        "      if self.plot_steps :\n",
        "        self.plot()\n",
        "      \n",
        "      #Classify samples as index of cluster ..\n",
        "      return self.get_cluster_label(self.clusters)\n",
        "\n",
        "  def create_clusters(self,centroids) :\n",
        "    clusters = [[] for _ in range(self.K)]\n",
        "    for sample_ind,sample in enumerate(self.X) :\n",
        "      centroid_ind = self.closest_centroid(sample,centroids)\n",
        "      clusters[centroid_ind].append(sample_ind)\n",
        "    return clusters\n",
        "  \n",
        "  def closest_centroid(self,sample,centroids) :\n",
        "    distances = [euclidean_distance(sample,centroid) for centroid in centroids]\n",
        "    closest_centroid_ind = np.argmin(distances)\n",
        "    return closest_centroid_ind\n",
        "\n",
        "  def calculate_centroids(self,clusters) :\n",
        "    #Calculate mean value of each cluster points ..\n",
        "    centroids = np.zeros((self.K,self.n_features))\n",
        "    for cluster_ind,cluster in enumerate(clusters) :\n",
        "      new_centroid = np.mean(self.X[cluster],axis=0)\n",
        "      centroids[cluster_ind] = new_centroid\n",
        "    return centroids\n",
        "\n",
        "  def is_converged(self,old_centroids,new_centroids):\n",
        "    distances = [euclidean_distance(old_centroids[i],new_centroids[i]) for i in range(self.K)]\n",
        "    return sum(distances) == 0\n",
        "\n",
        "  def get_cluster_label(self,clusters) :\n",
        "    labels = np.empty(self.n_samples)\n",
        "    for cluster_ind,cluster in enumerate(clusters) :\n",
        "      for sample_ind in cluster :\n",
        "        labels[sample_ind] = cluster_ind\n",
        "    return labels\n",
        "\n",
        "  def plot (self) :\n",
        "    fig, ax = plt.subplots(figsize=(12, 8))\n",
        "\n",
        "    for i, index in enumerate(self.clusters):\n",
        "        point = self.X[index].T\n",
        "        ax.scatter(*point)\n",
        "\n",
        "    for point in self.centroids:\n",
        "        ax.scatter(*point, marker=\"x\", color='black', linewidth=2)\n",
        "\n",
        "    plt.show()"
      ],
      "execution_count": 14,
      "outputs": []
    },
    {
      "cell_type": "code",
      "metadata": {
        "colab": {
          "base_uri": "https://localhost:8080/",
          "height": 518
        },
        "id": "Jib8F1NUI8m-",
        "outputId": "ffaabcab-76b7-4817-f54d-7c3c83eda290"
      },
      "source": [
        "from sklearn.datasets import make_blobs\n",
        "\n",
        "X, y = make_blobs(centers=3, n_samples=500, n_features=2, shuffle=True, random_state=40)\n",
        "print(X.shape)\n",
        "    \n",
        "clusters = len(np.unique(y))\n",
        "print(clusters)\n",
        "k = KMeans(K=clusters, max_iters=300)\n",
        "y_pred = k.predict(X)\n",
        "\n",
        "k.plot()"
      ],
      "execution_count": 17,
      "outputs": [
        {
          "output_type": "stream",
          "text": [
            "(500, 2)\n",
            "3\n"
          ],
          "name": "stdout"
        },
        {
          "output_type": "display_data",
          "data": {
            "image/png": "[encoded data removed]",
            "text/plain": [
              "<Figure size 864x576 with 1 Axes>"
            ]
          },
          "metadata": {
            "tags": [],
            "needs_background": "light"
          }
        }
      ]
    }
  ]
}